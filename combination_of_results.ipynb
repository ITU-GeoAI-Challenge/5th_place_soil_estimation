{
 "cells": [
  {
   "cell_type": "code",
   "execution_count": 29,
   "id": "2a7a3cb6",
   "metadata": {},
   "outputs": [],
   "source": [
    "import pandas as pd"
   ]
  },
  {
   "cell_type": "code",
   "execution_count": 30,
   "id": "6139e21b",
   "metadata": {},
   "outputs": [],
   "source": [
    "sub_P = pd.read_csv('sub_P.csv')\n",
    "sub_K = pd.read_csv('sub_K.csv')\n",
    "sub_Mg = pd.read_csv('sub_Mg.csv')\n",
    "sub_pH = pd.read_csv('sub_pH.csv')"
   ]
  },
  {
   "cell_type": "code",
   "execution_count": 31,
   "id": "720cd3e6",
   "metadata": {
    "scrolled": true
   },
   "outputs": [
    {
     "data": {
      "text/html": [
       "<div>\n",
       "<style scoped>\n",
       "    .dataframe tbody tr th:only-of-type {\n",
       "        vertical-align: middle;\n",
       "    }\n",
       "\n",
       "    .dataframe tbody tr th {\n",
       "        vertical-align: top;\n",
       "    }\n",
       "\n",
       "    .dataframe thead th {\n",
       "        text-align: right;\n",
       "    }\n",
       "</style>\n",
       "<table border=\"1\" class=\"dataframe\">\n",
       "  <thead>\n",
       "    <tr style=\"text-align: right;\">\n",
       "      <th></th>\n",
       "      <th>sample_index</th>\n",
       "      <th>0</th>\n",
       "    </tr>\n",
       "  </thead>\n",
       "  <tbody>\n",
       "    <tr>\n",
       "      <th>0</th>\n",
       "      <td>0_P</td>\n",
       "      <td>1.143793</td>\n",
       "    </tr>\n",
       "    <tr>\n",
       "      <th>1</th>\n",
       "      <td>1_P</td>\n",
       "      <td>1.084542</td>\n",
       "    </tr>\n",
       "    <tr>\n",
       "      <th>2</th>\n",
       "      <td>2_P</td>\n",
       "      <td>1.062309</td>\n",
       "    </tr>\n",
       "    <tr>\n",
       "      <th>3</th>\n",
       "      <td>3_P</td>\n",
       "      <td>1.023023</td>\n",
       "    </tr>\n",
       "    <tr>\n",
       "      <th>4</th>\n",
       "      <td>4_P</td>\n",
       "      <td>1.188334</td>\n",
       "    </tr>\n",
       "    <tr>\n",
       "      <th>...</th>\n",
       "      <td>...</td>\n",
       "      <td>...</td>\n",
       "    </tr>\n",
       "    <tr>\n",
       "      <th>1149</th>\n",
       "      <td>1149_pH</td>\n",
       "      <td>0.968680</td>\n",
       "    </tr>\n",
       "    <tr>\n",
       "      <th>1150</th>\n",
       "      <td>1150_pH</td>\n",
       "      <td>0.963802</td>\n",
       "    </tr>\n",
       "    <tr>\n",
       "      <th>1151</th>\n",
       "      <td>1151_pH</td>\n",
       "      <td>0.985673</td>\n",
       "    </tr>\n",
       "    <tr>\n",
       "      <th>1152</th>\n",
       "      <td>1152_pH</td>\n",
       "      <td>0.964791</td>\n",
       "    </tr>\n",
       "    <tr>\n",
       "      <th>1153</th>\n",
       "      <td>1153_pH</td>\n",
       "      <td>0.961273</td>\n",
       "    </tr>\n",
       "  </tbody>\n",
       "</table>\n",
       "<p>4616 rows × 2 columns</p>\n",
       "</div>"
      ],
      "text/plain": [
       "     sample_index         0\n",
       "0             0_P  1.143793\n",
       "1             1_P  1.084542\n",
       "2             2_P  1.062309\n",
       "3             3_P  1.023023\n",
       "4             4_P  1.188334\n",
       "...           ...       ...\n",
       "1149      1149_pH  0.968680\n",
       "1150      1150_pH  0.963802\n",
       "1151      1151_pH  0.985673\n",
       "1152      1152_pH  0.964791\n",
       "1153      1153_pH  0.961273\n",
       "\n",
       "[4616 rows x 2 columns]"
      ]
     },
     "execution_count": 31,
     "metadata": {},
     "output_type": "execute_result"
    }
   ],
   "source": [
    "final = pd.concat([sub_P,sub_K,sub_Mg,sub_pH])\n",
    "final"
   ]
  },
  {
   "cell_type": "code",
   "execution_count": 32,
   "id": "b7e0c66a",
   "metadata": {},
   "outputs": [
    {
     "data": {
      "text/plain": [
       "array([1.1437928 , 1.08454247, 1.06230863, ..., 0.98567291, 0.96479125,\n",
       "       0.96127255])"
      ]
     },
     "execution_count": 32,
     "metadata": {},
     "output_type": "execute_result"
    }
   ],
   "source": [
    "final['0'].values"
   ]
  },
  {
   "cell_type": "code",
   "execution_count": 35,
   "id": "b9101324",
   "metadata": {},
   "outputs": [],
   "source": [
    "final.to_csv( \"final_sub.csv\", index_label = \"sample_index\" ,index = False)"
   ]
  }
 ],
 "metadata": {
  "kernelspec": {
   "display_name": "Python 3 (ipykernel)",
   "language": "python",
   "name": "python3"
  },
  "language_info": {
   "codemirror_mode": {
    "name": "ipython",
    "version": 3
   },
   "file_extension": ".py",
   "mimetype": "text/x-python",
   "name": "python",
   "nbconvert_exporter": "python",
   "pygments_lexer": "ipython3",
   "version": "3.9.13"
  }
 },
 "nbformat": 4,
 "nbformat_minor": 5
}
